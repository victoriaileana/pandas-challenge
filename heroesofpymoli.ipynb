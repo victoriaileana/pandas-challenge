{
 "cells": [
  {
   "cell_type": "code",
   "execution_count": null,
   "id": "f8c4deed-7562-4ea4-b57c-bdbfd042217f",
   "metadata": {},
   "outputs": [],
   "source": [
    "# Dependencies \n",
    "import pandas as pd\n",
    "\n",
    "\n",
    "# File to load \n",
    "file_to_load = \"Resources/purchase_data.csv\"\n",
    "\n",
    "\n",
    "# Read Purchasing File and store into Pandas data frame \n",
    "purchase_data = pd.read_csv(File_to_load) \n",
    "\n"
   ]
  },
  {
   "cell_type": "code",
   "execution_count": 23,
   "id": "1849be63-1c25-43c4-aa67-2f0b8f06a066",
   "metadata": {},
   "outputs": [],
   "source": [
    "# Player Count \n",
    "pd.set_option('display.max_columns', None)\n"
   ]
  },
  {
   "cell_type": "code",
   "execution_count": null,
   "id": "f08af014-89a4-42f4-99c9-c62ecb87a5d5",
   "metadata": {},
   "outputs": [],
   "source": [
    "# Purchasing Analysis "
   ]
  },
  {
   "cell_type": "code",
   "execution_count": 29,
   "id": "54e74767-dd2f-40b4-a4fd-0edce229bcaf",
   "metadata": {},
   "outputs": [
    {
     "ename": "NameError",
     "evalue": "name 'Male' is not defined",
     "output_type": "error",
     "traceback": [
      "\u001b[0;31m---------------------------------------------------------------------------\u001b[0m",
      "\u001b[0;31mNameError\u001b[0m                                 Traceback (most recent call last)",
      "\u001b[0;32m/var/folders/md/g17hh6nj7gj3sr4d3nvd8v400000gq/T/ipykernel_78229/2711491874.py\u001b[0m in \u001b[0;36m<module>\u001b[0;34m\u001b[0m\n\u001b[1;32m      7\u001b[0m {\"total_count\" : [],\n\u001b[1;32m      8\u001b[0m \"percentage_of_players\" : []},\n\u001b[0;32m----> 9\u001b[0;31m index = [ Male, female, other/non-disclosed])\n\u001b[0m",
      "\u001b[0;31mNameError\u001b[0m: name 'Male' is not defined"
     ]
    }
   ],
   "source": [
    "# Gender Demographics \n",
    "percent_missing = df.isnull().sum() * 100 / len(df) \n",
    "import pandas as pd\n",
    "import numpy as np\n",
    "df = pd.read_csv('purchase_data.csv')\n",
    "df = pd.DataFrame(\n",
    "{\"total_count\" : [],\n",
    "\"percentage_of_players\" : []},\n",
    "index = [ Male, female, other/non-disclosed])\n"
   ]
  },
  {
   "cell_type": "code",
   "execution_count": 30,
   "id": "9fb089a6-1a75-4b3f-beec-114548d5195c",
   "metadata": {},
   "outputs": [
    {
     "ename": "NameError",
     "evalue": "name 'purchase_count' is not defined",
     "output_type": "error",
     "traceback": [
      "\u001b[0;31m---------------------------------------------------------------------------\u001b[0m",
      "\u001b[0;31mNameError\u001b[0m                                 Traceback (most recent call last)",
      "\u001b[0;32m/var/folders/md/g17hh6nj7gj3sr4d3nvd8v400000gq/T/ipykernel_78229/824286641.py\u001b[0m in \u001b[0;36m<module>\u001b[0;34m\u001b[0m\n\u001b[1;32m      1\u001b[0m \u001b[0;31m# Purchasing Analysis (Gender)\u001b[0m\u001b[0;34m\u001b[0m\u001b[0;34m\u001b[0m\u001b[0m\n\u001b[0;32m----> 2\u001b[0;31m \u001b[0mnp\u001b[0m\u001b[0;34m.\u001b[0m\u001b[0mmean\u001b[0m\u001b[0;34m(\u001b[0m\u001b[0mpurchase_count\u001b[0m\u001b[0;34m,\u001b[0m \u001b[0maverage_purchase_price\u001b[0m\u001b[0;34m,\u001b[0m \u001b[0mtotal_purchase_value\u001b[0m\u001b[0;34m,\u001b[0m \u001b[0maverage_total_purchase_per_person\u001b[0m\u001b[0;34m)\u001b[0m\u001b[0;34m\u001b[0m\u001b[0;34m\u001b[0m\u001b[0m\n\u001b[0m\u001b[1;32m      3\u001b[0m \u001b[0;31m#import library\u001b[0m\u001b[0;34m\u001b[0m\u001b[0;34m\u001b[0m\u001b[0m\n\u001b[1;32m      4\u001b[0m \u001b[0;32mimport\u001b[0m \u001b[0mpandas\u001b[0m \u001b[0;32mas\u001b[0m \u001b[0mpd\u001b[0m\u001b[0;34m\u001b[0m\u001b[0;34m\u001b[0m\u001b[0m\n\u001b[1;32m      5\u001b[0m \u001b[0;31m#import file\u001b[0m\u001b[0;34m\u001b[0m\u001b[0;34m\u001b[0m\u001b[0m\n",
      "\u001b[0;31mNameError\u001b[0m: name 'purchase_count' is not defined"
     ]
    }
   ],
   "source": [
    "# Purchasing Analysis (Gender)\n",
    "np.mean(purchase_count, average_purchase_price, total_purchase_value, average_total_purchase_per_person)\n",
    "#import library\n",
    "import pandas as pd\n",
    "#import file\n",
    "ss = pd.read_csv('purchase_data.csv')"
   ]
  },
  {
   "cell_type": "code",
   "execution_count": null,
   "id": "98545b9f-d102-4233-a0b4-bc51dcac943f",
   "metadata": {},
   "outputs": [],
   "source": [
    "# Age Demographics "
   ]
  },
  {
   "cell_type": "code",
   "execution_count": null,
   "id": "76a1cb27-f362-4b51-b384-6de474cc0e01",
   "metadata": {},
   "outputs": [],
   "source": [
    "# Purchasing Analysis \n",
    "pandas.cut(x, bins, right=true,labels= 'purchase_count', 'average_purchase_count', 'total_purchase_count', 'avg_total_purchase_per_person')\n",
    "retbins=retbins"
   ]
  },
  {
   "cell_type": "code",
   "execution_count": null,
   "id": "176993be-394c-4795-9e78-3b118185c466",
   "metadata": {},
   "outputs": [],
   "source": [
    "# Top Spenders "
   ]
  },
  {
   "cell_type": "code",
   "execution_count": null,
   "id": "458ded42-b86b-4127-b959-9928e646657d",
   "metadata": {},
   "outputs": [],
   "source": [
    "# Most Popular Items "
   ]
  },
  {
   "cell_type": "code",
   "execution_count": null,
   "id": "bd106f9a-b741-4d1f-bfbc-57be5e2462d2",
   "metadata": {},
   "outputs": [],
   "source": [
    "# Most Profitable Items "
   ]
  }
 ],
 "metadata": {
  "kernelspec": {
   "display_name": "Python 3 (ipykernel)",
   "language": "python",
   "name": "python3"
  },
  "language_info": {
   "codemirror_mode": {
    "name": "ipython",
    "version": 3
   },
   "file_extension": ".py",
   "mimetype": "text/x-python",
   "name": "python",
   "nbconvert_exporter": "python",
   "pygments_lexer": "ipython3",
   "version": "3.9.7"
  }
 },
 "nbformat": 4,
 "nbformat_minor": 5
}
